{
 "cells": [
  {
   "cell_type": "markdown",
   "id": "0e1ba728",
   "metadata": {},
   "source": [
    "## **Non-Graded Challange 2**\n",
    "### Function\n",
    "#### Instruction:\n",
    "- Buatlah sebuah function yang dapat mengkonversi suhu dari kelvin ke celcius, dan celcius ke kelvin.\n",
    "- Buatlah sebuah function yang dapat mengkonversi suhu ke fahrenheit. Tambahkan parameter untuk memastikan bahwa argumen yang dimasukan adalah celcius atau kelvin. Panggil function yang pertama jika diperlukan.\n",
    "- Buatlah sebuah function yang dapat mengkonversi suhu dari fahrenheit. Berikan argumen untuk memastikan bahwa outputnya dalah celcius atau kelvin.\n",
    "- Berikan dokumentasi pada setiap baris kode yang kalian tulis."
   ]
  },
  {
   "cell_type": "markdown",
   "id": "43b7cf30",
   "metadata": {},
   "source": [
    "#### Converter Suhu Kelvin ke Celcius, dan Celcius ke Kelvin"
   ]
  },
  {
   "cell_type": "code",
   "execution_count": 55,
   "id": "406e8c51",
   "metadata": {},
   "outputs": [],
   "source": [
    "def converter(unit,value): #unit dinyatakan dalam string 'k' atau 'c' yang diketahui, value dinyatakan dalam besaran skalar suhu yang diketahui\n",
    "    if unit == 'c':\n",
    "        conv = value + 273.15\n",
    "    elif unit == 'k':\n",
    "        conv = value - 273.15\n",
    "    return conv\n"
   ]
  },
  {
   "cell_type": "code",
   "execution_count": 64,
   "id": "ef2005da",
   "metadata": {},
   "outputs": [
    {
     "data": {
      "text/plain": [
       "309.65"
      ]
     },
     "execution_count": 64,
     "metadata": {},
     "output_type": "execute_result"
    }
   ],
   "source": [
    "# pemeriksaan function\n",
    "converter('c', 36.5)"
   ]
  },
  {
   "cell_type": "markdown",
   "id": "26bc5ea8",
   "metadata": {},
   "source": [
    "#### Converter Suhu ke Fahrenheit"
   ]
  },
  {
   "cell_type": "code",
   "execution_count": 67,
   "id": "f642dbd9",
   "metadata": {},
   "outputs": [],
   "source": [
    "def converter_fahrenheit(unit,value): #unit dinyatakan dalam string 'k' atau 'c' yang diketahui, value dinyatakan dalam besaran skalar suhu yang diketahui\n",
    "    if unit == 'c':\n",
    "        conv = value * 1.8 + 32\n",
    "    elif unit == 'k':\n",
    "        conv = converter('k',value) * 1.8 + 32\n",
    "    return conv"
   ]
  },
  {
   "cell_type": "code",
   "execution_count": 68,
   "id": "4dfcef1c",
   "metadata": {},
   "outputs": [
    {
     "data": {
      "text/plain": [
       "247.1"
      ]
     },
     "execution_count": 68,
     "metadata": {},
     "output_type": "execute_result"
    }
   ],
   "source": [
    "# pemeriksaan function\n",
    "converter_fahrenheit('k',392.65)"
   ]
  },
  {
   "cell_type": "markdown",
   "id": "19411294",
   "metadata": {},
   "source": [
    "#### Converter Suhu dari Fahrenheit"
   ]
  },
  {
   "cell_type": "code",
   "execution_count": 72,
   "id": "ddce4cb5",
   "metadata": {},
   "outputs": [],
   "source": [
    "def converter_from_fahrenheit(unit,value): #unit dinyatakan dalam string 'k' atau 'c' yang diinginkan keluar sebagai hasil, value dinyatakan dalam besaran fahrenheit yang diketahui\n",
    "    if unit == 'c':\n",
    "        conv = (value - 32) / 1.8\n",
    "    elif unit == 'k':\n",
    "        conv = ((value - 32) / 1.8)+ 273.15\n",
    "    return conv"
   ]
  },
  {
   "cell_type": "code",
   "execution_count": 74,
   "id": "9fdf442b",
   "metadata": {},
   "outputs": [
    {
     "data": {
      "text/plain": [
       "473.15"
      ]
     },
     "execution_count": 74,
     "metadata": {},
     "output_type": "execute_result"
    }
   ],
   "source": [
    "# pemeriksaan function\n",
    "converter_from_fahrenheit('k',392)"
   ]
  }
 ],
 "metadata": {
  "interpreter": {
   "hash": "2679abeb47bcc7830ba1644f03cdd0e70b1b0669573b72f8791d32310a44ae9c"
  },
  "kernelspec": {
   "display_name": "Python 3.9.12 ('base')",
   "language": "python",
   "name": "python3"
  },
  "language_info": {
   "codemirror_mode": {
    "name": "ipython",
    "version": 3
   },
   "file_extension": ".py",
   "mimetype": "text/x-python",
   "name": "python",
   "nbconvert_exporter": "python",
   "pygments_lexer": "ipython3",
   "version": "3.9.12"
  }
 },
 "nbformat": 4,
 "nbformat_minor": 5
}
